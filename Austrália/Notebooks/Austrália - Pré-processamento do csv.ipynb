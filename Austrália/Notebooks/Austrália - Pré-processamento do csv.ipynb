{
 "cells": [
  {
   "cell_type": "markdown",
   "metadata": {},
   "source": [
    "# Criação de um conjunto de csv para a utilização na criação dos mapas, dos gráficos e das previsões"
   ]
  },
  {
   "cell_type": "code",
   "execution_count": 1,
   "metadata": {},
   "outputs": [],
   "source": [
    "import pandas as pd"
   ]
  },
  {
   "cell_type": "code",
   "execution_count": 2,
   "metadata": {},
   "outputs": [],
   "source": [
    "def read_csv(filename):\n",
    "    df = pd.read_csv(filename)\n",
    "    return df"
   ]
  },
  {
   "cell_type": "markdown",
   "metadata": {},
   "source": [
    "Primeiramente foi realizada a leitura de csv com dados sobre as diferentes localidades e o número de casos associado a cada uma delas."
   ]
  },
  {
   "cell_type": "code",
   "execution_count": 3,
   "metadata": {},
   "outputs": [
    {
     "name": "stdout",
     "output_type": "stream",
     "text": [
      "      OBJECTID  ID_0  ISO     NAME_0  ID_1                        NAME_1  \\\n",
      "0            1    15  AUS  Australia     1   Ashmore and Cartier Islands   \n",
      "1            2    15  AUS  Australia     2  Australian Capital Territory   \n",
      "2            3    15  AUS  Australia     2  Australian Capital Territory   \n",
      "3            4    15  AUS  Australia     2  Australian Capital Territory   \n",
      "4            5    15  AUS  Australia     2  Australian Capital Territory   \n",
      "...        ...   ...  ...        ...   ...                           ...   \n",
      "1390      1391    15  AUS  Australia    11             Western Australia   \n",
      "1391      1392    15  AUS  Australia    11             Western Australia   \n",
      "1392      1393    15  AUS  Australia    11             Western Australia   \n",
      "1393      1394    15  AUS  Australia    11             Western Australia   \n",
      "1394      1395    15  AUS  Australia    11             Western Australia   \n",
      "\n",
      "      ID_2                  NAME_2   TYPE_2 ENGTYPE_2  NL_NAME_2 VARNAME_2  \n",
      "0        1                   n.a.1  Unknown   Unknown        NaN       NaN  \n",
      "1        2                   Acton  Unknown   Unknown        NaN       NaN  \n",
      "2        3                 Ainslie  Unknown   Unknown        NaN       NaN  \n",
      "3        4                  Amaroo  Unknown   Unknown        NaN       NaN  \n",
      "4        5                  Aranda  Unknown   Unknown        NaN       NaN  \n",
      "...    ...                     ...      ...       ...        ...       ...  \n",
      "1390  1391             Wyalkatchem    Shire     Shire        NaN       NaN  \n",
      "1391  1392  Wyndham-East Kimberley    Shire     Shire        NaN       NaN  \n",
      "1392  1393                  Yalgoo    Shire     Shire        NaN       NaN  \n",
      "1393  1394                 Yilgarn    Shire     Shire        NaN       NaN  \n",
      "1394  1395                    York    Shire     Shire        NaN       NaN  \n",
      "\n",
      "[1395 rows x 12 columns]\n"
     ]
    }
   ],
   "source": [
    "input = read_csv(r'C:\\Windows\\System32\\0 SIG\\AU_adm\\AUS_adm2.csv')\n",
    "print(input)"
   ]
  },
  {
   "cell_type": "code",
   "execution_count": 4,
   "metadata": {},
   "outputs": [
    {
     "name": "stdout",
     "output_type": "stream",
     "text": [
      "   OBJECTID  ID_0  ISO     NAME_0  ID_1                        NAME_1  ID_2  \\\n",
      "0         1    15  AUS  Australia     1   Ashmore and Cartier Islands     1   \n",
      "1         2    15  AUS  Australia     2  Australian Capital Territory     2   \n",
      "2         3    15  AUS  Australia     2  Australian Capital Territory     3   \n",
      "3         4    15  AUS  Australia     2  Australian Capital Territory     4   \n",
      "4         5    15  AUS  Australia     2  Australian Capital Territory     5   \n",
      "\n",
      "    NAME_2   TYPE_2 ENGTYPE_2  NL_NAME_2 VARNAME_2  \n",
      "0    n.a.1  Unknown   Unknown        NaN       NaN  \n",
      "1    Acton  Unknown   Unknown        NaN       NaN  \n",
      "2  Ainslie  Unknown   Unknown        NaN       NaN  \n",
      "3   Amaroo  Unknown   Unknown        NaN       NaN  \n",
      "4   Aranda  Unknown   Unknown        NaN       NaN  \n"
     ]
    }
   ],
   "source": [
    "print(input.head(5))"
   ]
  },
  {
   "cell_type": "code",
   "execution_count": 5,
   "metadata": {},
   "outputs": [
    {
     "name": "stdout",
     "output_type": "stream",
     "text": [
      "   OBJECTID  ID_0  ISO     NAME_0  ID_1                        NAME_1  ID_2  \\\n",
      "0         1    15  AUS  Australia     1   Ashmore and Cartier Islands     1   \n",
      "1         2    15  AUS  Australia     2  Australian Capital Territory     2   \n",
      "2         3    15  AUS  Australia     2  Australian Capital Territory     3   \n",
      "3         4    15  AUS  Australia     2  Australian Capital Territory     4   \n",
      "4         5    15  AUS  Australia     2  Australian Capital Territory     5   \n",
      "\n",
      "    NAME_2   TYPE_2 ENGTYPE_2  NL_NAME_2 VARNAME_2  \n",
      "0    n.a.1  Unknown   Unknown        NaN       NaN  \n",
      "1    Acton  Unknown   Unknown        NaN       NaN  \n",
      "2  Ainslie  Unknown   Unknown        NaN       NaN  \n",
      "3   Amaroo  Unknown   Unknown        NaN       NaN  \n",
      "4   Aranda  Unknown   Unknown        NaN       NaN  \n"
     ]
    }
   ],
   "source": [
    "df = pd.read_csv(r\"C:\\Windows\\System32\\0 SIG\\AU_adm\\AUS_adm2.csv\")\n",
    "print(df.head(5))"
   ]
  },
  {
   "cell_type": "code",
   "execution_count": 6,
   "metadata": {},
   "outputs": [
    {
     "name": "stdout",
     "output_type": "stream",
     "text": [
      "   1  15  AUS  Australia  1.1   Ashmore and Cartier Islands  1.2    n.a.1  \\\n",
      "0  2  15  AUS  Australia    2  Australian Capital Territory    2    Acton   \n",
      "1  3  15  AUS  Australia    2  Australian Capital Territory    3  Ainslie   \n",
      "2  4  15  AUS  Australia    2  Australian Capital Territory    4   Amaroo   \n",
      "3  5  15  AUS  Australia    2  Australian Capital Territory    5   Aranda   \n",
      "4  6  15  AUS  Australia    2  Australian Capital Territory    6    Banks   \n",
      "\n",
      "   Unknown Unknown.1  NA NA.1  \n",
      "0  Unknown   Unknown NaN  NaN  \n",
      "1  Unknown   Unknown NaN  NaN  \n",
      "2  Unknown   Unknown NaN  NaN  \n",
      "3  Unknown   Unknown NaN  NaN  \n",
      "4  Unknown   Unknown NaN  NaN  \n"
     ]
    }
   ],
   "source": [
    "df1 = pd.read_csv(r\"C:\\Windows\\System32\\0 SIG\\AU_adm\\AUS_adm2.csv\", skiprows = 1)\n",
    "print(df1.head(5))"
   ]
  },
  {
   "cell_type": "code",
   "execution_count": 7,
   "metadata": {},
   "outputs": [
    {
     "name": "stdout",
     "output_type": "stream",
     "text": [
      "object\n"
     ]
    }
   ],
   "source": [
    "print(df['NAME_2'].dtypes)"
   ]
  },
  {
   "cell_type": "code",
   "execution_count": 8,
   "metadata": {},
   "outputs": [
    {
     "name": "stdout",
     "output_type": "stream",
     "text": [
      "                      NAME_2   TYPE_2\n",
      "0                      n.a.1  Unknown\n",
      "1                      Acton  Unknown\n",
      "2                    Ainslie  Unknown\n",
      "3                     Amaroo  Unknown\n",
      "4                     Aranda  Unknown\n",
      "...                      ...      ...\n",
      "1390             Wyalkatchem    Shire\n",
      "1391  Wyndham-East Kimberley    Shire\n",
      "1392                  Yalgoo    Shire\n",
      "1393                 Yilgarn    Shire\n",
      "1394                    York    Shire\n",
      "\n",
      "[1395 rows x 2 columns]\n"
     ]
    }
   ],
   "source": [
    "print(df[['NAME_2', 'TYPE_2']])"
   ]
  },
  {
   "cell_type": "code",
   "execution_count": 9,
   "metadata": {},
   "outputs": [
    {
     "name": "stdout",
     "output_type": "stream",
     "text": [
      "Acton\n"
     ]
    }
   ],
   "source": [
    "print(df['NAME_2'][1])"
   ]
  },
  {
   "cell_type": "code",
   "execution_count": 10,
   "metadata": {},
   "outputs": [
    {
     "name": "stdout",
     "output_type": "stream",
     "text": [
      "     OBJECTID  LGA_CODE19                   LGA_NAME19  \\\n",
      "0           1       10050                   Albury (C)   \n",
      "1           2       10130        Armidale Regional (A)   \n",
      "2           3       10250                  Ballina (A)   \n",
      "3           4       10300                Balranald (A)   \n",
      "4           5       10470        Bathurst Regional (A)   \n",
      "..        ...         ...                          ...   \n",
      "539       540       74660              West Arnhem (R)   \n",
      "540       541       74680                West Daly (R)   \n",
      "541       542       79399            Unincorporated NT   \n",
      "542       543       89399           Unincorporated ACT   \n",
      "543       544       99399  Unincorp. Other Territories   \n",
      "\n",
      "                       STE_NAME16  AREASQKM19  Population  Cases  \\\n",
      "0                 New South Wales    305.9459     53767.0    8.0   \n",
      "1                 New South Wales   8620.6990     30707.0    4.0   \n",
      "2                 New South Wales    484.9389     44208.0    8.0   \n",
      "3                 New South Wales  21690.6753      2340.0    NaN   \n",
      "4                 New South Wales   3817.8646     43206.0    9.0   \n",
      "..                            ...         ...         ...    ...   \n",
      "539            Northern Territory  49675.0343      6902.0    NaN   \n",
      "540            Northern Territory  14069.6979      3649.0    NaN   \n",
      "541            Northern Territory  19789.9972      7379.0    NaN   \n",
      "542  Australian Capital Territory   2358.1720    420960.0    NaN   \n",
      "543             Other Territories    256.3162         NaN    NaN   \n",
      "\n",
      "                LastUpdated  Shape__Area  Shape__Length Cases_Str  PopNorm  \n",
      "0    2020/04/15 00:00:00+00     0.030587       1.260390         8   6720.0  \n",
      "1    2020/04/17 00:00:00+00     0.808783       6.883743         4   7676.0  \n",
      "2    2020/04/14 00:00:00+00     0.044858       1.422609         8   5526.0  \n",
      "3    1970/01/01 00:00:00+00     2.115393      11.197395       NaN      NaN  \n",
      "4    2020/03/29 00:00:00+00     0.370170       5.242297         9   4800.0  \n",
      "..                      ...          ...            ...       ...      ...  \n",
      "539  1970/01/01 00:00:00+00     4.131012      22.885151       NaN      NaN  \n",
      "540  1970/01/01 00:00:00+00     1.178221       7.483037       NaN      NaN  \n",
      "541  1970/01/01 00:00:00+00     1.649671      19.064581       NaN      NaN  \n",
      "542  1970/01/01 00:00:00+00     0.234257       2.967954       NaN      NaN  \n",
      "543  1970/01/01 00:00:00+00     0.022676       2.845384       NaN      NaN  \n",
      "\n",
      "[544 rows x 12 columns]\n"
     ]
    }
   ],
   "source": [
    "df = read_csv(r'C:\\Windows\\System32\\0 SIG\\Australian_Cases_by_LGA.csv')\n",
    "print(df)"
   ]
  },
  {
   "cell_type": "code",
   "execution_count": 11,
   "metadata": {},
   "outputs": [
    {
     "name": "stdout",
     "output_type": "stream",
     "text": [
      "0                           Albury\n",
      "1                Armidale Regional\n",
      "2                          Ballina\n",
      "3                        Balranald\n",
      "4                Bathurst Regional\n",
      "                  ...             \n",
      "539                    West Arnhem\n",
      "540                      West Daly\n",
      "541              Unincorporated NT\n",
      "542             Unincorporated ACT\n",
      "543    Unincorp. Other Territories\n",
      "Name: LGA_NAME19, Length: 544, dtype: object\n"
     ]
    }
   ],
   "source": [
    "df_editado = df['LGA_NAME19'].str.replace(r\"\\s\\(.*\\)\",\"\")\n",
    "print(df_editado)"
   ]
  },
  {
   "cell_type": "code",
   "execution_count": 12,
   "metadata": {},
   "outputs": [
    {
     "name": "stdout",
     "output_type": "stream",
     "text": [
      "0      8.0\n",
      "1      4.0\n",
      "2      8.0\n",
      "3      0.0\n",
      "4      9.0\n",
      "      ... \n",
      "539    0.0\n",
      "540    0.0\n",
      "541    0.0\n",
      "542    0.0\n",
      "543    0.0\n",
      "Name: Cases, Length: 544, dtype: float64\n"
     ]
    }
   ],
   "source": [
    "df_editado2 = df['Cases'].fillna(0)\n",
    "print(df_editado2)"
   ]
  },
  {
   "cell_type": "code",
   "execution_count": 13,
   "metadata": {},
   "outputs": [],
   "source": [
    "df['Nomes'] = df_editado\n",
    "df['Casos'] = df_editado2\n",
    "df.to_csv(r'C:\\Windows\\System32\\0 SIG\\Australian_Cases.csv', index=False)"
   ]
  },
  {
   "cell_type": "markdown",
   "metadata": {},
   "source": [
    "Foi criado um dataset de nome Australian_Cases.csv que possui os dados do dataset inicial, e lhe foram adicionados duas colunas. Uma relativa ao nome da localidade mas sem ter entre parentesis qual o tipo e outra com o número de casos, sendo que os territórios com NaN se alterou para apresentarem o valor de 0."
   ]
  },
  {
   "cell_type": "code",
   "execution_count": 14,
   "metadata": {},
   "outputs": [
    {
     "name": "stdout",
     "output_type": "stream",
     "text": [
      "     OBJECTID  LGA_CODE19                   LGA_NAME19  \\\n",
      "0           1       10050                   Albury (C)   \n",
      "1           2       10130        Armidale Regional (A)   \n",
      "2           3       10250                  Ballina (A)   \n",
      "3           4       10300                Balranald (A)   \n",
      "4           5       10470        Bathurst Regional (A)   \n",
      "..        ...         ...                          ...   \n",
      "539       540       74660              West Arnhem (R)   \n",
      "540       541       74680                West Daly (R)   \n",
      "541       542       79399            Unincorporated NT   \n",
      "542       543       89399           Unincorporated ACT   \n",
      "543       544       99399  Unincorp. Other Territories   \n",
      "\n",
      "                       STE_NAME16  AREASQKM19  Population  Cases  \\\n",
      "0                 New South Wales    305.9459     53767.0    8.0   \n",
      "1                 New South Wales   8620.6990     30707.0    4.0   \n",
      "2                 New South Wales    484.9389     44208.0    8.0   \n",
      "3                 New South Wales  21690.6753      2340.0    NaN   \n",
      "4                 New South Wales   3817.8646     43206.0    9.0   \n",
      "..                            ...         ...         ...    ...   \n",
      "539            Northern Territory  49675.0343      6902.0    NaN   \n",
      "540            Northern Territory  14069.6979      3649.0    NaN   \n",
      "541            Northern Territory  19789.9972      7379.0    NaN   \n",
      "542  Australian Capital Territory   2358.1720    420960.0    NaN   \n",
      "543             Other Territories    256.3162         NaN    NaN   \n",
      "\n",
      "                LastUpdated  Shape__Area  Shape__Length Cases_Str  PopNorm  \\\n",
      "0    2020/04/15 00:00:00+00     0.030587       1.260390         8   6720.0   \n",
      "1    2020/04/17 00:00:00+00     0.808783       6.883743         4   7676.0   \n",
      "2    2020/04/14 00:00:00+00     0.044858       1.422609         8   5526.0   \n",
      "3    1970/01/01 00:00:00+00     2.115393      11.197395       NaN      NaN   \n",
      "4    2020/03/29 00:00:00+00     0.370170       5.242297         9   4800.0   \n",
      "..                      ...          ...            ...       ...      ...   \n",
      "539  1970/01/01 00:00:00+00     4.131012      22.885151       NaN      NaN   \n",
      "540  1970/01/01 00:00:00+00     1.178221       7.483037       NaN      NaN   \n",
      "541  1970/01/01 00:00:00+00     1.649671      19.064581       NaN      NaN   \n",
      "542  1970/01/01 00:00:00+00     0.234257       2.967954       NaN      NaN   \n",
      "543  1970/01/01 00:00:00+00     0.022676       2.845384       NaN      NaN   \n",
      "\n",
      "                           Nomes  Casos  \n",
      "0                         Albury    8.0  \n",
      "1              Armidale Regional    4.0  \n",
      "2                        Ballina    8.0  \n",
      "3                      Balranald    0.0  \n",
      "4              Bathurst Regional    9.0  \n",
      "..                           ...    ...  \n",
      "539                  West Arnhem    0.0  \n",
      "540                    West Daly    0.0  \n",
      "541            Unincorporated NT    0.0  \n",
      "542           Unincorporated ACT    0.0  \n",
      "543  Unincorp. Other Territories    0.0  \n",
      "\n",
      "[544 rows x 14 columns]\n"
     ]
    }
   ],
   "source": [
    "df_novo = read_csv(r'C:\\Windows\\System32\\0 SIG\\Australian_Cases.csv')\n",
    "print(df_novo)"
   ]
  },
  {
   "cell_type": "code",
   "execution_count": 15,
   "metadata": {},
   "outputs": [
    {
     "name": "stdout",
     "output_type": "stream",
     "text": [
      "STE_NAME16\n",
      "Australian Capital Territory       0.0\n",
      "New South Wales                 2943.0\n",
      "Northern Territory                 0.0\n",
      "Other Territories                  0.0\n",
      "Queensland                         0.0\n",
      "South Australia                    0.0\n",
      "Tasmania                           0.0\n",
      "Victoria                        1556.0\n",
      "Western Australia                352.0\n",
      "Name: Casos, dtype: float64\n"
     ]
    }
   ],
   "source": [
    "df_editado3 = df_novo.groupby(['STE_NAME16'])['Casos'].sum()\n",
    "\n",
    "print(df_editado3)"
   ]
  },
  {
   "cell_type": "code",
   "execution_count": 16,
   "metadata": {},
   "outputs": [
    {
     "name": "stdout",
     "output_type": "stream",
     "text": [
      "0                   New South Wales\n",
      "129                        Victoria\n",
      "209                      Queensland\n",
      "287                 South Australia\n",
      "358               Western Australia\n",
      "495                        Tasmania\n",
      "524              Northern Territory\n",
      "542    Australian Capital Territory\n",
      "543               Other Territories\n",
      "Name: STE_NAME16, dtype: object\n"
     ]
    }
   ],
   "source": [
    "df_editado4 = df_novo.drop_duplicates(subset='STE_NAME16')\n",
    "\n",
    "df_editado5 = df_editado4['STE_NAME16']\n",
    "\n",
    "print(df_editado5)"
   ]
  },
  {
   "cell_type": "code",
   "execution_count": 17,
   "metadata": {},
   "outputs": [],
   "source": [
    "reg_grouped = df_novo.groupby('STE_NAME16')\n",
    "reg_grouped.sum().reset_index()[['STE_NAME16', 'Casos']].to_csv(r'C:\\Windows\\System32\\0 SIG\\Australian_Cases_Region.csv', index=False)"
   ]
  },
  {
   "cell_type": "markdown",
   "metadata": {},
   "source": [
    "Foi criado um dataset de nome Australian_Cases_Region.csv que possui duas colunas. Uma relativa ao nome da região e outra com o número de casos confirmados nela."
   ]
  },
  {
   "cell_type": "code",
   "execution_count": 18,
   "metadata": {},
   "outputs": [],
   "source": [
    "reg_grouped = df_novo.groupby('STE_NAME16')\n",
    "reg_grouped.sum().reset_index()[['STE_NAME16', 'Casos']].to_csv(r'C:\\Windows\\System32\\0 SIG\\Australian_Cases_Country.csv', index=False)"
   ]
  },
  {
   "cell_type": "code",
   "execution_count": 19,
   "metadata": {},
   "outputs": [
    {
     "name": "stdout",
     "output_type": "stream",
     "text": [
      "4851.0\n"
     ]
    }
   ],
   "source": [
    "df_editado6 = df_novo['Casos'].sum()\n",
    "print(df_editado6)"
   ]
  },
  {
   "cell_type": "code",
   "execution_count": 20,
   "metadata": {},
   "outputs": [
    {
     "name": "stdout",
     "output_type": "stream",
     "text": [
      "        Nome   Casos  Population\n",
      "0  Australia  4851.0  24988234.0\n"
     ]
    }
   ],
   "source": [
    "df_p = df['Population'].sum()\n",
    "\n",
    "data = {'Nome': ['Australia'], \n",
    "        'Casos': [df_editado6],\n",
    "        'Population': [df_p],} \n",
    "  \n",
    "df_c = pd.DataFrame(data)\n",
    "\n",
    "df_c.to_csv(r'C:\\Windows\\System32\\0 SIG\\Australian_Cases_Country.csv', index=False)\n",
    "\n",
    "print(df_c)"
   ]
  },
  {
   "cell_type": "markdown",
   "metadata": {},
   "source": [
    "Foi criado um dataset de nome Australian_Cases_Country.csv que somou os dados relativos a todas as regiões da Austrália. Este inclui o número total de casos e a população total do país."
   ]
  },
  {
   "cell_type": "markdown",
   "metadata": {},
   "source": [
    "De seguida, foi realizada a importação de 3 datasets time_series sobre o COVID-19 do GitHub. Sendo eles sobre o número de casos confirmados, de recuperados e de fatalidades."
   ]
  },
  {
   "cell_type": "code",
   "execution_count": 21,
   "metadata": {},
   "outputs": [],
   "source": [
    "import urllib.request\n",
    "url1 = 'https://raw.githubusercontent.com/CSSEGISandData/COVID-19/master/csse_covid_19_data/csse_covid_19_time_series/time_series_covid19_confirmed_global.csv'\n",
    "filename1 = 'Datasets/time_series_covid19_confirmed_global.csv'\n",
    "data1 = urllib.request.urlretrieve(url1, filename1)\n",
    "\n",
    "url2 = 'https://raw.githubusercontent.com/CSSEGISandData/COVID-19/master/csse_covid_19_data/csse_covid_19_time_series/time_series_covid19_recovered_global.csv'\n",
    "filename2 = 'Datasets/time_series_covid19_recovered_global.csv'\n",
    "data2 = urllib.request.urlretrieve(url2, filename2)\n",
    "\n",
    "url3 = 'https://raw.githubusercontent.com/CSSEGISandData/COVID-19/master/csse_covid_19_data/csse_covid_19_time_series/time_series_covid19_deaths_global.csv'\n",
    "filename3 = 'Datasets/time_series_covid19_deaths_global.csv'\n",
    "data3 = urllib.request.urlretrieve(url3, filename3)"
   ]
  },
  {
   "cell_type": "code",
   "execution_count": 22,
   "metadata": {},
   "outputs": [
    {
     "name": "stdout",
     "output_type": "stream",
     "text": [
      "    Province/State         Country/Region        Lat       Long  1/22/20  \\\n",
      "0              NaN            Afghanistan  33.000000  65.000000        0   \n",
      "1              NaN                Albania  41.153300  20.168300        0   \n",
      "2              NaN                Algeria  28.033900   1.659600        0   \n",
      "3              NaN                Andorra  42.506300   1.521800        0   \n",
      "4              NaN                 Angola -11.202700  17.873900        0   \n",
      "..             ...                    ...        ...        ...      ...   \n",
      "261            NaN  Sao Tome and Principe   0.186360   6.613081        0   \n",
      "262            NaN                  Yemen  15.552727  48.516388        0   \n",
      "263            NaN                Comoros -11.645500  43.333300        0   \n",
      "264            NaN             Tajikistan  38.861034  71.276093        0   \n",
      "265            NaN                Lesotho -29.609988  28.233608        0   \n",
      "\n",
      "     1/23/20  1/24/20  1/25/20  1/26/20  1/27/20  ...  5/23/20  5/24/20  \\\n",
      "0          0        0        0        0        0  ...     9998    10582   \n",
      "1          0        0        0        0        0  ...      989      998   \n",
      "2          0        0        0        0        0  ...     8113     8306   \n",
      "3          0        0        0        0        0  ...      762      762   \n",
      "4          0        0        0        0        0  ...       61       69   \n",
      "..       ...      ...      ...      ...      ...  ...      ...      ...   \n",
      "261        0        0        0        0        0  ...      251      251   \n",
      "262        0        0        0        0        0  ...      212      222   \n",
      "263        0        0        0        0        0  ...       78       87   \n",
      "264        0        0        0        0        0  ...     2738     2929   \n",
      "265        0        0        0        0        0  ...        2        2   \n",
      "\n",
      "     5/25/20  5/26/20  5/27/20  5/28/20  5/29/20  5/30/20  5/31/20  6/1/20  \n",
      "0      11173    11831    12456    13036    13659    14525    15205   15750  \n",
      "1       1004     1029     1050     1076     1099     1122     1137    1143  \n",
      "2       8503     8697     8857     8997     9134     9267     9394    9513  \n",
      "3        763      763      763      763      764      764      764     765  \n",
      "4         70       70       71       74       81       84       86      86  \n",
      "..       ...      ...      ...      ...      ...      ...      ...     ...  \n",
      "261      299      441      443      458      463      479      483     484  \n",
      "262      233      249      256      278      283      310      323     354  \n",
      "263       87       87       87       87       87      106      106     106  \n",
      "264     3100     3266     3424     3563     3686     3807     3930    4013  \n",
      "265        2        2        2        2        2        2        2       2  \n",
      "\n",
      "[266 rows x 136 columns]\n",
      "    Province/State         Country/Region        Lat       Long  1/22/20  \\\n",
      "0              NaN            Afghanistan  33.000000  65.000000        0   \n",
      "1              NaN                Albania  41.153300  20.168300        0   \n",
      "2              NaN                Algeria  28.033900   1.659600        0   \n",
      "3              NaN                Andorra  42.506300   1.521800        0   \n",
      "4              NaN                 Angola -11.202700  17.873900        0   \n",
      "..             ...                    ...        ...        ...      ...   \n",
      "248            NaN  Sao Tome and Principe   0.186360   6.613081        0   \n",
      "249            NaN                  Yemen  15.552727  48.516388        0   \n",
      "250            NaN                Comoros -11.645500  43.333300        0   \n",
      "251            NaN             Tajikistan  38.861034  71.276093        0   \n",
      "252            NaN                Lesotho -29.609988  28.233608        0   \n",
      "\n",
      "     1/23/20  1/24/20  1/25/20  1/26/20  1/27/20  ...  5/23/20  5/24/20  \\\n",
      "0          0        0        0        0        0  ...     1040     1075   \n",
      "1          0        0        0        0        0  ...      783      789   \n",
      "2          0        0        0        0        0  ...     4426     4784   \n",
      "3          0        0        0        0        0  ...      653      653   \n",
      "4          0        0        0        0        0  ...       18       18   \n",
      "..       ...      ...      ...      ...      ...  ...      ...      ...   \n",
      "248        0        0        0        0        0  ...        4        4   \n",
      "249        0        0        0        0        0  ...       11       10   \n",
      "250        0        0        0        0        0  ...       18       21   \n",
      "251        0        0        0        0        0  ...     1223     1301   \n",
      "252        0        0        0        0        0  ...        0        0   \n",
      "\n",
      "     5/25/20  5/26/20  5/27/20  5/28/20  5/29/20  5/30/20  5/31/20  6/1/20  \n",
      "0       1097     1128     1138     1209     1259     1303     1328    1428  \n",
      "1        795      803      812      823      851      857      872     877  \n",
      "2       4747     4918     5129     5277     5422     5549     5748    5894  \n",
      "3        663      676      676      681      684      692      694     698  \n",
      "4         18       18       18       18       18       18       18      18  \n",
      "..       ...      ...      ...      ...      ...      ...      ...     ...  \n",
      "248        4       68       68       68       68       68       68      68  \n",
      "249       10       10       10       11       11       13       14      14  \n",
      "250       21       21       24       24       24       26       26      26  \n",
      "251     1395     1417     1575     1674     1769     1865     2004    2089  \n",
      "252        0        0        0        1        1        1        1       1  \n",
      "\n",
      "[253 rows x 136 columns]\n",
      "    Province/State         Country/Region        Lat       Long  1/22/20  \\\n",
      "0              NaN            Afghanistan  33.000000  65.000000        0   \n",
      "1              NaN                Albania  41.153300  20.168300        0   \n",
      "2              NaN                Algeria  28.033900   1.659600        0   \n",
      "3              NaN                Andorra  42.506300   1.521800        0   \n",
      "4              NaN                 Angola -11.202700  17.873900        0   \n",
      "..             ...                    ...        ...        ...      ...   \n",
      "261            NaN  Sao Tome and Principe   0.186360   6.613081        0   \n",
      "262            NaN                  Yemen  15.552727  48.516388        0   \n",
      "263            NaN                Comoros -11.645500  43.333300        0   \n",
      "264            NaN             Tajikistan  38.861034  71.276093        0   \n",
      "265            NaN                Lesotho -29.609988  28.233608        0   \n",
      "\n",
      "     1/23/20  1/24/20  1/25/20  1/26/20  1/27/20  ...  5/23/20  5/24/20  \\\n",
      "0          0        0        0        0        0  ...      216      218   \n",
      "1          0        0        0        0        0  ...       31       32   \n",
      "2          0        0        0        0        0  ...      592      600   \n",
      "3          0        0        0        0        0  ...       51       51   \n",
      "4          0        0        0        0        0  ...        4        4   \n",
      "..       ...      ...      ...      ...      ...  ...      ...      ...   \n",
      "261        0        0        0        0        0  ...        8        8   \n",
      "262        0        0        0        0        0  ...       39       42   \n",
      "263        0        0        0        0        0  ...        1        1   \n",
      "264        0        0        0        0        0  ...       44       46   \n",
      "265        0        0        0        0        0  ...        0        0   \n",
      "\n",
      "     5/25/20  5/26/20  5/27/20  5/28/20  5/29/20  5/30/20  5/31/20  6/1/20  \n",
      "0        219      220      227      235      246      249      257     265  \n",
      "1         32       33       33       33       33       33       33      33  \n",
      "2        609      617      623      630      638      646      653     661  \n",
      "3         51       51       51       51       51       51       51      51  \n",
      "4          4        4        4        4        4        4        4       4  \n",
      "..       ...      ...      ...      ...      ...      ...      ...     ...  \n",
      "261       11       12       12       12       12       12       12      12  \n",
      "262       44       49       53       57       65       77       80      84  \n",
      "263        1        1        2        2        2        2        2       2  \n",
      "264       46       47       47       47       47       47       47      47  \n",
      "265        0        0        0        0        0        0        0       0  \n",
      "\n",
      "[266 rows x 136 columns]\n"
     ]
    }
   ],
   "source": [
    "time_conf = read_csv(r'C:\\Windows\\System32\\0 SIG\\Datasets\\time_series_covid19_confirmed_global.csv')\n",
    "time_rec = read_csv(r'C:\\Windows\\System32\\0 SIG\\Datasets\\time_series_covid19_recovered_global.csv')\n",
    "time_d = read_csv(r'C:\\Windows\\System32\\0 SIG\\Datasets\\time_series_covid19_deaths_global.csv')\n",
    "\n",
    "print(time_conf)\n",
    "print(time_rec)\n",
    "print(time_d)"
   ]
  },
  {
   "cell_type": "code",
   "execution_count": 23,
   "metadata": {},
   "outputs": [
    {
     "name": "stdout",
     "output_type": "stream",
     "text": [
      "                  Province/State Country/Region      Lat      Long  1/22/20  \\\n",
      "8   Australian Capital Territory      Australia -35.4735  149.0124        0   \n",
      "9                New South Wales      Australia -33.8688  151.2093        0   \n",
      "10            Northern Territory      Australia -12.4634  130.8456        0   \n",
      "11                    Queensland      Australia -28.0167  153.4000        0   \n",
      "12               South Australia      Australia -34.9285  138.6007        0   \n",
      "13                      Tasmania      Australia -41.4545  145.9707        0   \n",
      "14                      Victoria      Australia -37.8136  144.9631        0   \n",
      "15             Western Australia      Australia -31.9505  115.8605        0   \n",
      "\n",
      "    1/23/20  1/24/20  1/25/20  1/26/20  1/27/20  ...  5/23/20  5/24/20  \\\n",
      "8         0        0        0        0        0  ...      107      107   \n",
      "9         0        0        0        3        4  ...     3087     3090   \n",
      "10        0        0        0        0        0  ...       29       29   \n",
      "11        0        0        0        0        0  ...     1061     1056   \n",
      "12        0        0        0        0        0  ...      439      439   \n",
      "13        0        0        0        0        0  ...      228      228   \n",
      "14        0        0        0        1        1  ...     1603     1605   \n",
      "15        0        0        0        0        0  ...      560      560   \n",
      "\n",
      "    5/25/20  5/26/20  5/27/20  5/28/20  5/29/20  5/30/20  5/31/20  6/1/20  \n",
      "8       107      107      107      107      107      107      107     107  \n",
      "9      3092     3089     3090     3092     3092     3095     3098    3104  \n",
      "10       29       29       29       29       29       29       29      29  \n",
      "11     1057     1058     1058     1058     1058     1058     1058    1059  \n",
      "12      439      440      440      440      440      440      440     440  \n",
      "13      228      228      228      228      228      228      228     228  \n",
      "14     1610     1618     1628     1634     1645     1649     1653    1663  \n",
      "15      564      570      570      577      585      586      589     591  \n",
      "\n",
      "[8 rows x 136 columns]\n"
     ]
    }
   ],
   "source": [
    "df_tc = time_conf.loc[time_conf['Country/Region'] == 'Australia']\n",
    "df_tc.to_csv(r'C:\\Windows\\System32\\0 SIG\\Datasets\\time_series_covid19_confirmed_global_AUS.csv', index=False)\n",
    "print(df_tc)"
   ]
  },
  {
   "cell_type": "markdown",
   "metadata": {},
   "source": [
    "Foi criado um csv chamado time_series_covid19_confirmed_global_AUS.csv com dados às regiões da Austrália, sendo que estes incluem o número de novos casos confirmados de COVID-19 que cada uma registou a cada dia."
   ]
  },
  {
   "cell_type": "code",
   "execution_count": 24,
   "metadata": {},
   "outputs": [
    {
     "name": "stdout",
     "output_type": "stream",
     "text": [
      "                  Province/State Country/Region      Lat      Long  1/22/20  \\\n",
      "8   Australian Capital Territory      Australia -35.4735  149.0124        0   \n",
      "9                New South Wales      Australia -33.8688  151.2093        0   \n",
      "10            Northern Territory      Australia -12.4634  130.8456        0   \n",
      "11                    Queensland      Australia -28.0167  153.4000        0   \n",
      "12               South Australia      Australia -34.9285  138.6007        0   \n",
      "13                      Tasmania      Australia -41.4545  145.9707        0   \n",
      "14                      Victoria      Australia -37.8136  144.9631        0   \n",
      "15             Western Australia      Australia -31.9505  115.8605        0   \n",
      "\n",
      "    1/23/20  1/24/20  1/25/20  1/26/20  1/27/20  ...  5/23/20  5/24/20  \\\n",
      "8         0        0        0        0        0  ...      104      104   \n",
      "9         0        0        0        0        0  ...     2653     2656   \n",
      "10        0        0        0        0        0  ...       29       29   \n",
      "11        0        0        0        0        0  ...     1041     1038   \n",
      "12        0        0        0        0        0  ...      435      435   \n",
      "13        0        0        0        0        0  ...      199      200   \n",
      "14        0        0        0        0        0  ...     1498     1520   \n",
      "15        0        0        0        0        0  ...      549      549   \n",
      "\n",
      "    5/25/20  5/26/20  5/27/20  5/28/20  5/29/20  5/30/20  5/31/20  6/1/20  \n",
      "8       104      104      104      104      104      104      104     104  \n",
      "9      2661     2663     2670     2666     2683     2685     2685    2687  \n",
      "10       29       29       29       29       29       29       29      29  \n",
      "11     1039     1044     1045     1045     1045     1046     1046    1048  \n",
      "12      435      435      435      435      435      435      435     435  \n",
      "13      202      203      203      203      205      206      207     207  \n",
      "14     1533     1533     1544     1544     1553     1557     1560    1563  \n",
      "15      549      549      549      550      551      552      552     553  \n",
      "\n",
      "[8 rows x 136 columns]\n"
     ]
    }
   ],
   "source": [
    "df_r = time_rec.loc[time_rec['Country/Region'] == 'Australia']\n",
    "df_r.to_csv(r'C:\\Windows\\System32\\0 SIG\\Datasets\\time_series_covid19_recovered_global_AUS.csv', index=False)\n",
    "print(df_r)"
   ]
  },
  {
   "cell_type": "markdown",
   "metadata": {},
   "source": [
    "Foi criado um csv chamado time_series_covid19_recovered_global_AUS.csv com dados às regiões da Austrália, sendo que estes incluem o número de recuperados que cada uma registou a cada dia."
   ]
  },
  {
   "cell_type": "code",
   "execution_count": 25,
   "metadata": {},
   "outputs": [
    {
     "name": "stdout",
     "output_type": "stream",
     "text": [
      "                  Province/State Country/Region      Lat      Long  1/22/20  \\\n",
      "8   Australian Capital Territory      Australia -35.4735  149.0124        0   \n",
      "9                New South Wales      Australia -33.8688  151.2093        0   \n",
      "10            Northern Territory      Australia -12.4634  130.8456        0   \n",
      "11                    Queensland      Australia -28.0167  153.4000        0   \n",
      "12               South Australia      Australia -34.9285  138.6007        0   \n",
      "13                      Tasmania      Australia -41.4545  145.9707        0   \n",
      "14                      Victoria      Australia -37.8136  144.9631        0   \n",
      "15             Western Australia      Australia -31.9505  115.8605        0   \n",
      "\n",
      "    1/23/20  1/24/20  1/25/20  1/26/20  1/27/20  ...  5/23/20  5/24/20  \\\n",
      "8         0        0        0        0        0  ...        3        3   \n",
      "9         0        0        0        0        0  ...       48       48   \n",
      "10        0        0        0        0        0  ...        0        0   \n",
      "11        0        0        0        0        0  ...        6        6   \n",
      "12        0        0        0        0        0  ...        4        4   \n",
      "13        0        0        0        0        0  ...       13       13   \n",
      "14        0        0        0        0        0  ...       19       19   \n",
      "15        0        0        0        0        0  ...        9        9   \n",
      "\n",
      "    5/25/20  5/26/20  5/27/20  5/28/20  5/29/20  5/30/20  5/31/20  6/1/20  \n",
      "8         3        3        3        3        3        3        3       3  \n",
      "9        48       48       48       48       48       48       48      48  \n",
      "10        0        0        0        0        0        0        0       0  \n",
      "11        6        7        7        7        7        7        7       6  \n",
      "12        4        4        4        4        4        4        4       4  \n",
      "13       13       13       13       13       13       13       13      13  \n",
      "14       19       19       19       19       19       19       19      19  \n",
      "15        9        9        9        9        9        9        9       9  \n",
      "\n",
      "[8 rows x 136 columns]\n"
     ]
    }
   ],
   "source": [
    "df_d = time_d.loc[time_d['Country/Region'] == 'Australia']\n",
    "df_d.to_csv(r'C:\\Windows\\System32\\0 SIG\\Datasets\\time_series_covid19_deaths_global_AUS.csv', index=False)\n",
    "print(df_d)"
   ]
  },
  {
   "cell_type": "markdown",
   "metadata": {},
   "source": [
    "Foi criado um csv chamado time_series_covid19_deaths_global_AUS.csv com dados às regiões da Austrália, sendo que estes incluem o número de fatalidades que cada uma registou a cada dia."
   ]
  },
  {
   "cell_type": "code",
   "execution_count": 26,
   "metadata": {},
   "outputs": [
    {
     "name": "stdout",
     "output_type": "stream",
     "text": [
      "Province/State Australian Capital Territory New South Wales  \\\n",
      "1/22/20                                   0               0   \n",
      "1/23/20                                   0               0   \n",
      "1/24/20                                   0               0   \n",
      "1/25/20                                   0               0   \n",
      "1/26/20                                   0               3   \n",
      "...                                     ...             ...   \n",
      "5/28/20                                 107            3092   \n",
      "5/29/20                                 107            3092   \n",
      "5/30/20                                 107            3095   \n",
      "5/31/20                                 107            3098   \n",
      "6/1/20                                  107            3104   \n",
      "\n",
      "Province/State Northern Territory Queensland South Australia Tasmania  \\\n",
      "1/22/20                         0          0               0        0   \n",
      "1/23/20                         0          0               0        0   \n",
      "1/24/20                         0          0               0        0   \n",
      "1/25/20                         0          0               0        0   \n",
      "1/26/20                         0          0               0        0   \n",
      "...                           ...        ...             ...      ...   \n",
      "5/28/20                        29       1058             440      228   \n",
      "5/29/20                        29       1058             440      228   \n",
      "5/30/20                        29       1058             440      228   \n",
      "5/31/20                        29       1058             440      228   \n",
      "6/1/20                         29       1059             440      228   \n",
      "\n",
      "Province/State Victoria Western Australia  \n",
      "1/22/20               0                 0  \n",
      "1/23/20               0                 0  \n",
      "1/24/20               0                 0  \n",
      "1/25/20               0                 0  \n",
      "1/26/20               1                 0  \n",
      "...                 ...               ...  \n",
      "5/28/20            1634               577  \n",
      "5/29/20            1645               585  \n",
      "5/30/20            1649               586  \n",
      "5/31/20            1653               589  \n",
      "6/1/20             1663               591  \n",
      "\n",
      "[132 rows x 8 columns]\n",
      "['Australian Capital Territory', 'New South Wales', 'Northern Territory', 'Queensland', 'South Australia', 'Tasmania', 'Victoria', 'Western Australia']\n"
     ]
    }
   ],
   "source": [
    "time_c_transposed = df_tc.set_index('Province/State').T\n",
    "time_c_2 = time_c_transposed.drop(['Country/Region','Lat', 'Long'])\n",
    "print(time_c_2)\n",
    "\n",
    "col1 = time_c_2.columns.values.tolist()\n",
    "print(col1)"
   ]
  },
  {
   "cell_type": "code",
   "execution_count": 27,
   "metadata": {},
   "outputs": [
    {
     "name": "stdout",
     "output_type": "stream",
     "text": [
      "         Total_Confirmados\n",
      "1/22/20                0.0\n",
      "1/23/20                0.0\n",
      "1/24/20                0.0\n",
      "1/25/20                0.0\n",
      "1/26/20                1.0\n",
      "...                    ...\n",
      "5/28/20             2439.0\n",
      "5/29/20             2458.0\n",
      "5/30/20             2463.0\n",
      "5/31/20             2470.0\n",
      "6/1/20              2482.0\n",
      "\n",
      "[132 rows x 1 columns]\n"
     ]
    }
   ],
   "source": [
    "time = pd.DataFrame(time_c_2.iloc[:,5:].sum(axis=1),columns=['Total_Confirmados'])\n",
    "time.to_csv(r'C:\\Windows\\System32\\0 SIG\\Datasets\\time_series_covid19_global_AUS.csv', index=False)\n",
    "print(time)"
   ]
  },
  {
   "cell_type": "code",
   "execution_count": 28,
   "metadata": {},
   "outputs": [
    {
     "name": "stdout",
     "output_type": "stream",
     "text": [
      "Province/State Australian Capital Territory New South Wales  \\\n",
      "1/22/20                                   0               0   \n",
      "1/23/20                                   0               0   \n",
      "1/24/20                                   0               0   \n",
      "1/25/20                                   0               0   \n",
      "1/26/20                                   0               0   \n",
      "...                                     ...             ...   \n",
      "5/28/20                                 104            2666   \n",
      "5/29/20                                 104            2683   \n",
      "5/30/20                                 104            2685   \n",
      "5/31/20                                 104            2685   \n",
      "6/1/20                                  104            2687   \n",
      "\n",
      "Province/State Northern Territory Queensland South Australia Tasmania  \\\n",
      "1/22/20                         0          0               0        0   \n",
      "1/23/20                         0          0               0        0   \n",
      "1/24/20                         0          0               0        0   \n",
      "1/25/20                         0          0               0        0   \n",
      "1/26/20                         0          0               0        0   \n",
      "...                           ...        ...             ...      ...   \n",
      "5/28/20                        29       1045             435      203   \n",
      "5/29/20                        29       1045             435      205   \n",
      "5/30/20                        29       1046             435      206   \n",
      "5/31/20                        29       1046             435      207   \n",
      "6/1/20                         29       1048             435      207   \n",
      "\n",
      "Province/State Victoria Western Australia  \n",
      "1/22/20               0                 0  \n",
      "1/23/20               0                 0  \n",
      "1/24/20               0                 0  \n",
      "1/25/20               0                 0  \n",
      "1/26/20               0                 0  \n",
      "...                 ...               ...  \n",
      "5/28/20            1544               550  \n",
      "5/29/20            1553               551  \n",
      "5/30/20            1557               552  \n",
      "5/31/20            1560               552  \n",
      "6/1/20             1563               553  \n",
      "\n",
      "[132 rows x 8 columns]\n",
      "['Australian Capital Territory', 'New South Wales', 'Northern Territory', 'Queensland', 'South Australia', 'Tasmania', 'Victoria', 'Western Australia']\n"
     ]
    }
   ],
   "source": [
    "time_r_transposed = df_r.set_index('Province/State').T\n",
    "time_r_2 = time_r_transposed.drop(['Country/Region','Lat', 'Long'])\n",
    "print(time_r_2)\n",
    "\n",
    "col2 = time_r_2.columns.values.tolist()\n",
    "print(col2)"
   ]
  },
  {
   "cell_type": "code",
   "execution_count": 29,
   "metadata": {},
   "outputs": [
    {
     "name": "stdout",
     "output_type": "stream",
     "text": [
      "         Total_Confirmados  Total_Recuperados\n",
      "1/22/20                0.0                0.0\n",
      "1/23/20                0.0                0.0\n",
      "1/24/20                0.0                0.0\n",
      "1/25/20                0.0                0.0\n",
      "1/26/20                1.0                0.0\n",
      "...                    ...                ...\n",
      "5/28/20             2439.0             2297.0\n",
      "5/29/20             2458.0             2309.0\n",
      "5/30/20             2463.0             2315.0\n",
      "5/31/20             2470.0             2319.0\n",
      "6/1/20              2482.0             2323.0\n",
      "\n",
      "[132 rows x 2 columns]\n"
     ]
    }
   ],
   "source": [
    "time = pd.concat([time,pd.DataFrame(time_r_2.iloc[:,5:].sum(axis=1),columns=['Total_Recuperados'])],axis=1)\n",
    "time.to_csv(r'C:\\Windows\\System32\\0 SIG\\Datasets\\time_series_covid19_global_AUS.csv', index=False)\n",
    "print(time)"
   ]
  },
  {
   "cell_type": "code",
   "execution_count": 30,
   "metadata": {},
   "outputs": [
    {
     "name": "stdout",
     "output_type": "stream",
     "text": [
      "Province/State Australian Capital Territory New South Wales  \\\n",
      "1/22/20                                   0               0   \n",
      "1/23/20                                   0               0   \n",
      "1/24/20                                   0               0   \n",
      "1/25/20                                   0               0   \n",
      "1/26/20                                   0               0   \n",
      "...                                     ...             ...   \n",
      "5/28/20                                   3              48   \n",
      "5/29/20                                   3              48   \n",
      "5/30/20                                   3              48   \n",
      "5/31/20                                   3              48   \n",
      "6/1/20                                    3              48   \n",
      "\n",
      "Province/State Northern Territory Queensland South Australia Tasmania  \\\n",
      "1/22/20                         0          0               0        0   \n",
      "1/23/20                         0          0               0        0   \n",
      "1/24/20                         0          0               0        0   \n",
      "1/25/20                         0          0               0        0   \n",
      "1/26/20                         0          0               0        0   \n",
      "...                           ...        ...             ...      ...   \n",
      "5/28/20                         0          7               4       13   \n",
      "5/29/20                         0          7               4       13   \n",
      "5/30/20                         0          7               4       13   \n",
      "5/31/20                         0          7               4       13   \n",
      "6/1/20                          0          6               4       13   \n",
      "\n",
      "Province/State Victoria Western Australia  \n",
      "1/22/20               0                 0  \n",
      "1/23/20               0                 0  \n",
      "1/24/20               0                 0  \n",
      "1/25/20               0                 0  \n",
      "1/26/20               0                 0  \n",
      "...                 ...               ...  \n",
      "5/28/20              19                 9  \n",
      "5/29/20              19                 9  \n",
      "5/30/20              19                 9  \n",
      "5/31/20              19                 9  \n",
      "6/1/20               19                 9  \n",
      "\n",
      "[132 rows x 8 columns]\n",
      "['Australian Capital Territory', 'New South Wales', 'Northern Territory', 'Queensland', 'South Australia', 'Tasmania', 'Victoria', 'Western Australia']\n"
     ]
    }
   ],
   "source": [
    "time_d_transposed = df_d.set_index('Province/State').T\n",
    "time_d_2 = time_d_transposed.drop(['Country/Region','Lat', 'Long'])\n",
    "print(time_d_2)\n",
    "\n",
    "col3 = time_d_2.columns.values.tolist()\n",
    "print(col3)"
   ]
  },
  {
   "cell_type": "code",
   "execution_count": 31,
   "metadata": {},
   "outputs": [
    {
     "name": "stdout",
     "output_type": "stream",
     "text": [
      "         Total_Confirmados  Total_Recuperados  Total_Fatalidades\n",
      "1/22/20                0.0                0.0                0.0\n",
      "1/23/20                0.0                0.0                0.0\n",
      "1/24/20                0.0                0.0                0.0\n",
      "1/25/20                0.0                0.0                0.0\n",
      "1/26/20                1.0                0.0                0.0\n",
      "...                    ...                ...                ...\n",
      "5/28/20             2439.0             2297.0               41.0\n",
      "5/29/20             2458.0             2309.0               41.0\n",
      "5/30/20             2463.0             2315.0               41.0\n",
      "5/31/20             2470.0             2319.0               41.0\n",
      "6/1/20              2482.0             2323.0               41.0\n",
      "\n",
      "[132 rows x 3 columns]\n"
     ]
    }
   ],
   "source": [
    "time = pd.concat([time,pd.DataFrame(time_d_2.iloc[:,5:].sum(axis=1),columns=['Total_Fatalidades'])],axis=1)\n",
    "time.to_csv(r'C:\\Windows\\System32\\0 SIG\\Datasets\\time_series_covid19_global_AUS.csv', index=False)\n",
    "print(time)"
   ]
  },
  {
   "cell_type": "code",
   "execution_count": 32,
   "metadata": {},
   "outputs": [
    {
     "name": "stdout",
     "output_type": "stream",
     "text": [
      "         Total_Confirmados  Total_Recuperados  Total_Fatalidades     Data\n",
      "1/22/20                0.0                0.0                0.0  1/22/20\n",
      "1/23/20                0.0                0.0                0.0  1/23/20\n",
      "1/24/20                0.0                0.0                0.0  1/24/20\n",
      "1/25/20                0.0                0.0                0.0  1/25/20\n",
      "1/26/20                1.0                0.0                0.0  1/26/20\n",
      "...                    ...                ...                ...      ...\n",
      "5/28/20             2439.0             2297.0               41.0  5/28/20\n",
      "5/29/20             2458.0             2309.0               41.0  5/29/20\n",
      "5/30/20             2463.0             2315.0               41.0  5/30/20\n",
      "5/31/20             2470.0             2319.0               41.0  5/31/20\n",
      "6/1/20              2482.0             2323.0               41.0   6/1/20\n",
      "\n",
      "[132 rows x 4 columns]\n"
     ]
    }
   ],
   "source": [
    "time['Data'] = time.index\n",
    "time.to_csv(r'C:\\Windows\\System32\\0 SIG\\Datasets\\time_series_covid19_global_AUS.csv', index=False)\n",
    "print(time)"
   ]
  },
  {
   "cell_type": "markdown",
   "metadata": {},
   "source": [
    "Foi criado um csv chamado time_series_covid19_global_AUS.csv com dados relativos ao valor total de casos confirmados, do número de recuperados e de fatalidades para cada data na Austrália."
   ]
  }
 ],
 "metadata": {
  "kernelspec": {
   "display_name": "Python 3",
   "language": "python",
   "name": "python3"
  },
  "language_info": {
   "codemirror_mode": {
    "name": "ipython",
    "version": 3
   },
   "file_extension": ".py",
   "mimetype": "text/x-python",
   "name": "python",
   "nbconvert_exporter": "python",
   "pygments_lexer": "ipython3",
   "version": "3.7.0"
  }
 },
 "nbformat": 4,
 "nbformat_minor": 2
}

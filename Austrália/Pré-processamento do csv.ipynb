{
 "cells": [
  {
   "cell_type": "code",
   "execution_count": 1,
   "metadata": {},
   "outputs": [],
   "source": [
    "import pandas as pd"
   ]
  },
  {
   "cell_type": "code",
   "execution_count": 2,
   "metadata": {},
   "outputs": [],
   "source": [
    "def read_csv(filename):\n",
    "    df = pd.read_csv(filename)\n",
    "    return df"
   ]
  },
  {
   "cell_type": "code",
   "execution_count": 3,
   "metadata": {},
   "outputs": [
    {
     "name": "stdout",
     "output_type": "stream",
     "text": [
      "      OBJECTID  ID_0  ISO     NAME_0  ID_1                        NAME_1  \\\n",
      "0            1    15  AUS  Australia     1   Ashmore and Cartier Islands   \n",
      "1            2    15  AUS  Australia     2  Australian Capital Territory   \n",
      "2            3    15  AUS  Australia     2  Australian Capital Territory   \n",
      "3            4    15  AUS  Australia     2  Australian Capital Territory   \n",
      "4            5    15  AUS  Australia     2  Australian Capital Territory   \n",
      "...        ...   ...  ...        ...   ...                           ...   \n",
      "1390      1391    15  AUS  Australia    11             Western Australia   \n",
      "1391      1392    15  AUS  Australia    11             Western Australia   \n",
      "1392      1393    15  AUS  Australia    11             Western Australia   \n",
      "1393      1394    15  AUS  Australia    11             Western Australia   \n",
      "1394      1395    15  AUS  Australia    11             Western Australia   \n",
      "\n",
      "      ID_2                  NAME_2   TYPE_2 ENGTYPE_2  NL_NAME_2 VARNAME_2  \n",
      "0        1                   n.a.1  Unknown   Unknown        NaN       NaN  \n",
      "1        2                   Acton  Unknown   Unknown        NaN       NaN  \n",
      "2        3                 Ainslie  Unknown   Unknown        NaN       NaN  \n",
      "3        4                  Amaroo  Unknown   Unknown        NaN       NaN  \n",
      "4        5                  Aranda  Unknown   Unknown        NaN       NaN  \n",
      "...    ...                     ...      ...       ...        ...       ...  \n",
      "1390  1391             Wyalkatchem    Shire     Shire        NaN       NaN  \n",
      "1391  1392  Wyndham-East Kimberley    Shire     Shire        NaN       NaN  \n",
      "1392  1393                  Yalgoo    Shire     Shire        NaN       NaN  \n",
      "1393  1394                 Yilgarn    Shire     Shire        NaN       NaN  \n",
      "1394  1395                    York    Shire     Shire        NaN       NaN  \n",
      "\n",
      "[1395 rows x 12 columns]\n"
     ]
    }
   ],
   "source": [
    "input = read_csv(r'C:\\Windows\\System32\\0 SIG\\AU_adm\\AUS_adm2.csv')\n",
    "print(input)"
   ]
  },
  {
   "cell_type": "code",
   "execution_count": 4,
   "metadata": {},
   "outputs": [
    {
     "name": "stdout",
     "output_type": "stream",
     "text": [
      "   OBJECTID  ID_0  ISO     NAME_0  ID_1                        NAME_1  ID_2  \\\n",
      "0         1    15  AUS  Australia     1   Ashmore and Cartier Islands     1   \n",
      "1         2    15  AUS  Australia     2  Australian Capital Territory     2   \n",
      "2         3    15  AUS  Australia     2  Australian Capital Territory     3   \n",
      "3         4    15  AUS  Australia     2  Australian Capital Territory     4   \n",
      "4         5    15  AUS  Australia     2  Australian Capital Territory     5   \n",
      "\n",
      "    NAME_2   TYPE_2 ENGTYPE_2  NL_NAME_2 VARNAME_2  \n",
      "0    n.a.1  Unknown   Unknown        NaN       NaN  \n",
      "1    Acton  Unknown   Unknown        NaN       NaN  \n",
      "2  Ainslie  Unknown   Unknown        NaN       NaN  \n",
      "3   Amaroo  Unknown   Unknown        NaN       NaN  \n",
      "4   Aranda  Unknown   Unknown        NaN       NaN  \n"
     ]
    }
   ],
   "source": [
    "print(input.head(5))"
   ]
  },
  {
   "cell_type": "code",
   "execution_count": 5,
   "metadata": {},
   "outputs": [
    {
     "name": "stdout",
     "output_type": "stream",
     "text": [
      "   OBJECTID  ID_0  ISO     NAME_0  ID_1                        NAME_1  ID_2  \\\n",
      "0         1    15  AUS  Australia     1   Ashmore and Cartier Islands     1   \n",
      "1         2    15  AUS  Australia     2  Australian Capital Territory     2   \n",
      "2         3    15  AUS  Australia     2  Australian Capital Territory     3   \n",
      "3         4    15  AUS  Australia     2  Australian Capital Territory     4   \n",
      "4         5    15  AUS  Australia     2  Australian Capital Territory     5   \n",
      "\n",
      "    NAME_2   TYPE_2 ENGTYPE_2  NL_NAME_2 VARNAME_2  \n",
      "0    n.a.1  Unknown   Unknown        NaN       NaN  \n",
      "1    Acton  Unknown   Unknown        NaN       NaN  \n",
      "2  Ainslie  Unknown   Unknown        NaN       NaN  \n",
      "3   Amaroo  Unknown   Unknown        NaN       NaN  \n",
      "4   Aranda  Unknown   Unknown        NaN       NaN  \n"
     ]
    }
   ],
   "source": [
    "df = pd.read_csv(r\"C:\\Windows\\System32\\0 SIG\\AU_adm\\AUS_adm2.csv\")\n",
    "print(df.head(5))"
   ]
  },
  {
   "cell_type": "code",
   "execution_count": 6,
   "metadata": {},
   "outputs": [
    {
     "name": "stdout",
     "output_type": "stream",
     "text": [
      "   1  15  AUS  Australia  1.1   Ashmore and Cartier Islands  1.2    n.a.1  \\\n",
      "0  2  15  AUS  Australia    2  Australian Capital Territory    2    Acton   \n",
      "1  3  15  AUS  Australia    2  Australian Capital Territory    3  Ainslie   \n",
      "2  4  15  AUS  Australia    2  Australian Capital Territory    4   Amaroo   \n",
      "3  5  15  AUS  Australia    2  Australian Capital Territory    5   Aranda   \n",
      "4  6  15  AUS  Australia    2  Australian Capital Territory    6    Banks   \n",
      "\n",
      "   Unknown Unknown.1  NA NA.1  \n",
      "0  Unknown   Unknown NaN  NaN  \n",
      "1  Unknown   Unknown NaN  NaN  \n",
      "2  Unknown   Unknown NaN  NaN  \n",
      "3  Unknown   Unknown NaN  NaN  \n",
      "4  Unknown   Unknown NaN  NaN  \n"
     ]
    }
   ],
   "source": [
    "df1 = pd.read_csv(r\"C:\\Windows\\System32\\0 SIG\\AU_adm\\AUS_adm2.csv\", skiprows = 1)\n",
    "print(df1.head(5))"
   ]
  },
  {
   "cell_type": "code",
   "execution_count": 7,
   "metadata": {},
   "outputs": [
    {
     "name": "stdout",
     "output_type": "stream",
     "text": [
      "object\n"
     ]
    }
   ],
   "source": [
    "print(df['NAME_2'].dtypes)"
   ]
  },
  {
   "cell_type": "code",
   "execution_count": 8,
   "metadata": {},
   "outputs": [
    {
     "name": "stdout",
     "output_type": "stream",
     "text": [
      "                      NAME_2   TYPE_2\n",
      "0                      n.a.1  Unknown\n",
      "1                      Acton  Unknown\n",
      "2                    Ainslie  Unknown\n",
      "3                     Amaroo  Unknown\n",
      "4                     Aranda  Unknown\n",
      "...                      ...      ...\n",
      "1390             Wyalkatchem    Shire\n",
      "1391  Wyndham-East Kimberley    Shire\n",
      "1392                  Yalgoo    Shire\n",
      "1393                 Yilgarn    Shire\n",
      "1394                    York    Shire\n",
      "\n",
      "[1395 rows x 2 columns]\n"
     ]
    }
   ],
   "source": [
    "print(df[['NAME_2', 'TYPE_2']])"
   ]
  },
  {
   "cell_type": "code",
   "execution_count": 9,
   "metadata": {},
   "outputs": [
    {
     "name": "stdout",
     "output_type": "stream",
     "text": [
      "Acton\n"
     ]
    }
   ],
   "source": [
    "print(df['NAME_2'][1])"
   ]
  },
  {
   "cell_type": "code",
   "execution_count": 10,
   "metadata": {},
   "outputs": [
    {
     "name": "stdout",
     "output_type": "stream",
     "text": [
      "     OBJECTID  LGA_CODE19                   LGA_NAME19  \\\n",
      "0           1       10050                   Albury (C)   \n",
      "1           2       10130        Armidale Regional (A)   \n",
      "2           3       10250                  Ballina (A)   \n",
      "3           4       10300                Balranald (A)   \n",
      "4           5       10470        Bathurst Regional (A)   \n",
      "..        ...         ...                          ...   \n",
      "539       540       74660              West Arnhem (R)   \n",
      "540       541       74680                West Daly (R)   \n",
      "541       542       79399            Unincorporated NT   \n",
      "542       543       89399           Unincorporated ACT   \n",
      "543       544       99399  Unincorp. Other Territories   \n",
      "\n",
      "                       STE_NAME16  AREASQKM19  Population  Cases  \\\n",
      "0                 New South Wales    305.9459     53767.0    8.0   \n",
      "1                 New South Wales   8620.6990     30707.0    4.0   \n",
      "2                 New South Wales    484.9389     44208.0    8.0   \n",
      "3                 New South Wales  21690.6753      2340.0    NaN   \n",
      "4                 New South Wales   3817.8646     43206.0    9.0   \n",
      "..                            ...         ...         ...    ...   \n",
      "539            Northern Territory  49675.0343      6902.0    NaN   \n",
      "540            Northern Territory  14069.6979      3649.0    NaN   \n",
      "541            Northern Territory  19789.9972      7379.0    NaN   \n",
      "542  Australian Capital Territory   2358.1720    420960.0    NaN   \n",
      "543             Other Territories    256.3162         NaN    NaN   \n",
      "\n",
      "                LastUpdated  Shape__Area  Shape__Length Cases_Str  PopNorm  \n",
      "0    2020/04/15 00:00:00+00     0.030587       1.260390         8   6720.0  \n",
      "1    2020/04/17 00:00:00+00     0.808783       6.883743         4   7676.0  \n",
      "2    2020/04/14 00:00:00+00     0.044858       1.422609         8   5526.0  \n",
      "3    1970/01/01 00:00:00+00     2.115393      11.197395       NaN      NaN  \n",
      "4    2020/03/29 00:00:00+00     0.370170       5.242297         9   4800.0  \n",
      "..                      ...          ...            ...       ...      ...  \n",
      "539  1970/01/01 00:00:00+00     4.131012      22.885151       NaN      NaN  \n",
      "540  1970/01/01 00:00:00+00     1.178221       7.483037       NaN      NaN  \n",
      "541  1970/01/01 00:00:00+00     1.649671      19.064581       NaN      NaN  \n",
      "542  1970/01/01 00:00:00+00     0.234257       2.967954       NaN      NaN  \n",
      "543  1970/01/01 00:00:00+00     0.022676       2.845384       NaN      NaN  \n",
      "\n",
      "[544 rows x 12 columns]\n"
     ]
    }
   ],
   "source": [
    "df = read_csv(r'C:\\Windows\\System32\\0 SIG\\Australian_Cases_by_LGA.csv')\n",
    "print(df)"
   ]
  },
  {
   "cell_type": "code",
   "execution_count": 11,
   "metadata": {},
   "outputs": [
    {
     "name": "stdout",
     "output_type": "stream",
     "text": [
      "0                           Albury\n",
      "1                Armidale Regional\n",
      "2                          Ballina\n",
      "3                        Balranald\n",
      "4                Bathurst Regional\n",
      "                  ...             \n",
      "539                    West Arnhem\n",
      "540                      West Daly\n",
      "541              Unincorporated NT\n",
      "542             Unincorporated ACT\n",
      "543    Unincorp. Other Territories\n",
      "Name: LGA_NAME19, Length: 544, dtype: object\n"
     ]
    }
   ],
   "source": [
    "df_editado = df['LGA_NAME19'].str.replace(r\"\\s\\(.*\\)\",\"\")\n",
    "print(df_editado)"
   ]
  },
  {
   "cell_type": "code",
   "execution_count": 12,
   "metadata": {},
   "outputs": [
    {
     "name": "stdout",
     "output_type": "stream",
     "text": [
      "0      8.0\n",
      "1      4.0\n",
      "2      8.0\n",
      "3      0.0\n",
      "4      9.0\n",
      "      ... \n",
      "539    0.0\n",
      "540    0.0\n",
      "541    0.0\n",
      "542    0.0\n",
      "543    0.0\n",
      "Name: Cases, Length: 544, dtype: float64\n"
     ]
    }
   ],
   "source": [
    "df_editado2 = df['Cases'].fillna(0)\n",
    "print(df_editado2)"
   ]
  },
  {
   "cell_type": "code",
   "execution_count": 13,
   "metadata": {},
   "outputs": [],
   "source": [
    "df['Nomes'] = df_editado\n",
    "df['Casos'] = df_editado2\n",
    "df.to_csv(r'C:\\Windows\\System32\\0 SIG\\Australian_Cases.csv', index=False)"
   ]
  },
  {
   "cell_type": "code",
   "execution_count": 14,
   "metadata": {},
   "outputs": [
    {
     "name": "stdout",
     "output_type": "stream",
     "text": [
      "     OBJECTID  LGA_CODE19                   LGA_NAME19  \\\n",
      "0           1       10050                   Albury (C)   \n",
      "1           2       10130        Armidale Regional (A)   \n",
      "2           3       10250                  Ballina (A)   \n",
      "3           4       10300                Balranald (A)   \n",
      "4           5       10470        Bathurst Regional (A)   \n",
      "..        ...         ...                          ...   \n",
      "539       540       74660              West Arnhem (R)   \n",
      "540       541       74680                West Daly (R)   \n",
      "541       542       79399            Unincorporated NT   \n",
      "542       543       89399           Unincorporated ACT   \n",
      "543       544       99399  Unincorp. Other Territories   \n",
      "\n",
      "                       STE_NAME16  AREASQKM19  Population  Cases  \\\n",
      "0                 New South Wales    305.9459     53767.0    8.0   \n",
      "1                 New South Wales   8620.6990     30707.0    4.0   \n",
      "2                 New South Wales    484.9389     44208.0    8.0   \n",
      "3                 New South Wales  21690.6753      2340.0    NaN   \n",
      "4                 New South Wales   3817.8646     43206.0    9.0   \n",
      "..                            ...         ...         ...    ...   \n",
      "539            Northern Territory  49675.0343      6902.0    NaN   \n",
      "540            Northern Territory  14069.6979      3649.0    NaN   \n",
      "541            Northern Territory  19789.9972      7379.0    NaN   \n",
      "542  Australian Capital Territory   2358.1720    420960.0    NaN   \n",
      "543             Other Territories    256.3162         NaN    NaN   \n",
      "\n",
      "                LastUpdated  Shape__Area  Shape__Length Cases_Str  PopNorm  \\\n",
      "0    2020/04/15 00:00:00+00     0.030587       1.260390         8   6720.0   \n",
      "1    2020/04/17 00:00:00+00     0.808783       6.883743         4   7676.0   \n",
      "2    2020/04/14 00:00:00+00     0.044858       1.422609         8   5526.0   \n",
      "3    1970/01/01 00:00:00+00     2.115393      11.197395       NaN      NaN   \n",
      "4    2020/03/29 00:00:00+00     0.370170       5.242297         9   4800.0   \n",
      "..                      ...          ...            ...       ...      ...   \n",
      "539  1970/01/01 00:00:00+00     4.131012      22.885151       NaN      NaN   \n",
      "540  1970/01/01 00:00:00+00     1.178221       7.483037       NaN      NaN   \n",
      "541  1970/01/01 00:00:00+00     1.649671      19.064581       NaN      NaN   \n",
      "542  1970/01/01 00:00:00+00     0.234257       2.967954       NaN      NaN   \n",
      "543  1970/01/01 00:00:00+00     0.022676       2.845384       NaN      NaN   \n",
      "\n",
      "                           Nomes  Casos  \n",
      "0                         Albury    8.0  \n",
      "1              Armidale Regional    4.0  \n",
      "2                        Ballina    8.0  \n",
      "3                      Balranald    0.0  \n",
      "4              Bathurst Regional    9.0  \n",
      "..                           ...    ...  \n",
      "539                  West Arnhem    0.0  \n",
      "540                    West Daly    0.0  \n",
      "541            Unincorporated NT    0.0  \n",
      "542           Unincorporated ACT    0.0  \n",
      "543  Unincorp. Other Territories    0.0  \n",
      "\n",
      "[544 rows x 14 columns]\n"
     ]
    }
   ],
   "source": [
    "df_novo = read_csv(r'C:\\Windows\\System32\\0 SIG\\Australian_Cases.csv')\n",
    "print(df_novo)"
   ]
  },
  {
   "cell_type": "code",
   "execution_count": 17,
   "metadata": {},
   "outputs": [
    {
     "name": "stdout",
     "output_type": "stream",
     "text": [
      "STE_NAME16\n",
      "Australian Capital Territory       0.0\n",
      "New South Wales                 2943.0\n",
      "Northern Territory                 0.0\n",
      "Other Territories                  0.0\n",
      "Queensland                         0.0\n",
      "South Australia                    0.0\n",
      "Tasmania                           0.0\n",
      "Victoria                        1556.0\n",
      "Western Australia                352.0\n",
      "Name: Casos, dtype: float64\n"
     ]
    }
   ],
   "source": [
    "df_editado3 = df_novo.groupby(['STE_NAME16'])['Casos'].sum()\n",
    "\n",
    "print(df_editado3)"
   ]
  },
  {
   "cell_type": "code",
   "execution_count": 42,
   "metadata": {},
   "outputs": [
    {
     "name": "stdout",
     "output_type": "stream",
     "text": [
      "0                   New South Wales\n",
      "129                        Victoria\n",
      "209                      Queensland\n",
      "287                 South Australia\n",
      "358               Western Australia\n",
      "495                        Tasmania\n",
      "524              Northern Territory\n",
      "542    Australian Capital Territory\n",
      "543               Other Territories\n",
      "Name: STE_NAME16, dtype: object\n"
     ]
    }
   ],
   "source": [
    "df_editado4 = df_novo.drop_duplicates(subset='STE_NAME16')\n",
    "\n",
    "df_editado5 = df_editado4['STE_NAME16']\n",
    "\n",
    "print(df_editado5)"
   ]
  },
  {
   "cell_type": "code",
   "execution_count": 46,
   "metadata": {},
   "outputs": [],
   "source": [
    "reg_grouped = df_novo.groupby('STE_NAME16')\n",
    "reg_grouped.sum().reset_index()[['STE_NAME16', 'Casos']].to_csv(r'C:\\Windows\\System32\\0 SIG\\Australian_Cases_Region.csv', index=False)"
   ]
  },
  {
   "cell_type": "code",
   "execution_count": null,
   "metadata": {},
   "outputs": [],
   "source": [
    "reg_grouped = df_novo.groupby('STE_NAME16')\n",
    "reg_grouped.sum().reset_index()[['STE_NAME16', 'Casos']].to_csv(r'C:\\Windows\\System32\\0 SIG\\Australian_Cases_Country.csv', index=False)"
   ]
  },
  {
   "cell_type": "code",
   "execution_count": 72,
   "metadata": {},
   "outputs": [
    {
     "name": "stdout",
     "output_type": "stream",
     "text": [
      "4851.0\n"
     ]
    }
   ],
   "source": [
    "df_editado6 = df_novo['Casos'].sum()\n",
    "print(df_editado6)"
   ]
  },
  {
   "cell_type": "code",
   "execution_count": 75,
   "metadata": {},
   "outputs": [
    {
     "name": "stdout",
     "output_type": "stream",
     "text": [
      "        Nome   Casos\n",
      "0  Australia  4851.0\n"
     ]
    }
   ],
   "source": [
    "data = {'Nome': ['Australia'], \n",
    "        'Casos': [df_editado6]} \n",
    "  \n",
    "df_c = pd.DataFrame(data)\n",
    "\n",
    "df_c.to_csv(r'C:\\Windows\\System32\\0 SIG\\Australian_Cases_Country.csv', index=False)\n",
    "\n",
    "print(df_c)"
   ]
  }
 ],
 "metadata": {
  "kernelspec": {
   "display_name": "Python 3",
   "language": "python",
   "name": "python3"
  },
  "language_info": {
   "codemirror_mode": {
    "name": "ipython",
    "version": 3
   },
   "file_extension": ".py",
   "mimetype": "text/x-python",
   "name": "python",
   "nbconvert_exporter": "python",
   "pygments_lexer": "ipython3",
   "version": "3.7.0"
  }
 },
 "nbformat": 4,
 "nbformat_minor": 2
}

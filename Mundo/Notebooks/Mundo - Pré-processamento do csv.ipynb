{
 "cells": [
  {
   "cell_type": "markdown",
   "metadata": {},
   "source": [
    "# Criação de um conjunto de csv para a utilização de dados a nível mundial"
   ]
  },
  {
   "cell_type": "code",
   "execution_count": 1,
   "metadata": {},
   "outputs": [],
   "source": [
    "import pandas as pd"
   ]
  },
  {
   "cell_type": "code",
   "execution_count": 2,
   "metadata": {},
   "outputs": [],
   "source": [
    "def read_csv(filename):\n",
    "    df = pd.read_csv(filename)\n",
    "    return df"
   ]
  },
  {
   "cell_type": "markdown",
   "metadata": {},
   "source": [
    "Primeiramente foi realizada a leitura de um csv chamado 20200512.csv com dados de cada país sobre o número de casos de COVID-19 e de fatalidades que provocou até ao dia 11-05-2020."
   ]
  },
  {
   "cell_type": "code",
   "execution_count": 3,
   "metadata": {},
   "outputs": [
    {
     "name": "stdout",
     "output_type": "stream",
     "text": [
      "          dateRep  day  month  year  cases  deaths countriesAndTerritories  \\\n",
      "0      11/05/2020   11      5  2020    369       5             Afghanistan   \n",
      "1      10/05/2020   10      5  2020    255       6             Afghanistan   \n",
      "2      09/05/2020    9      5  2020    215       3             Afghanistan   \n",
      "3      08/05/2020    8      5  2020    171       2             Afghanistan   \n",
      "4      07/05/2020    7      5  2020    168       9             Afghanistan   \n",
      "...           ...  ...    ...   ...    ...     ...                     ...   \n",
      "16317  25/03/2020   25      3  2020      0       0                Zimbabwe   \n",
      "16318  24/03/2020   24      3  2020      0       1                Zimbabwe   \n",
      "16319  23/03/2020   23      3  2020      0       0                Zimbabwe   \n",
      "16320  22/03/2020   22      3  2020      1       0                Zimbabwe   \n",
      "16321  21/03/2020   21      3  2020      1       0                Zimbabwe   \n",
      "\n",
      "      geoId countryterritoryCode  popData2018 continentExp  \n",
      "0        AF                  AFG   37172386.0         Asia  \n",
      "1        AF                  AFG   37172386.0         Asia  \n",
      "2        AF                  AFG   37172386.0         Asia  \n",
      "3        AF                  AFG   37172386.0         Asia  \n",
      "4        AF                  AFG   37172386.0         Asia  \n",
      "...     ...                  ...          ...          ...  \n",
      "16317    ZW                  ZWE   14439018.0       Africa  \n",
      "16318    ZW                  ZWE   14439018.0       Africa  \n",
      "16319    ZW                  ZWE   14439018.0       Africa  \n",
      "16320    ZW                  ZWE   14439018.0       Africa  \n",
      "16321    ZW                  ZWE   14439018.0       Africa  \n",
      "\n",
      "[16322 rows x 11 columns]\n"
     ]
    }
   ],
   "source": [
    "df = read_csv(r'C:\\Windows\\System32\\0 SIG\\MapaData\\20200512.csv')\n",
    "print(df)"
   ]
  },
  {
   "cell_type": "code",
   "execution_count": 4,
   "metadata": {},
   "outputs": [
    {
     "name": "stdout",
     "output_type": "stream",
     "text": [
      "          dateRep  day  month  year  cases  deaths countriesAndTerritories  \\\n",
      "714    11/05/2020   11      5  2020      0       0                   Aruba   \n",
      "0      11/05/2020   11      5  2020    369       5             Afghanistan   \n",
      "374    11/05/2020   11      5  2020      2       0                  Angola   \n",
      "123    11/05/2020   11      5  2020     12       0                 Albania   \n",
      "315    11/05/2020   11      5  2020      1       0                 Andorra   \n",
      "...           ...  ...    ...   ...    ...     ...                     ...   \n",
      "16184  11/05/2020   11      5  2020     17       1                   Yemen   \n",
      "13732  11/05/2020   11      5  2020    595       8            South_Africa   \n",
      "16216  11/05/2020   11      5  2020     15       0                  Zambia   \n",
      "16270  11/05/2020   11      5  2020      0       0                Zimbabwe   \n",
      "425    11/05/2020   11      5  2020      0       0                Anguilla   \n",
      "\n",
      "      geoId countryterritoryCode  popData2018 continentExp  \n",
      "714      AW                  ABW     105845.0      America  \n",
      "0        AF                  AFG   37172386.0         Asia  \n",
      "374      AO                  AGO   30809762.0       Africa  \n",
      "123      AL                  ALB    2866376.0       Europe  \n",
      "315      AD                  AND      77006.0       Europe  \n",
      "...     ...                  ...          ...          ...  \n",
      "16184    YE                  YEM   28498687.0         Asia  \n",
      "13732    ZA                  ZAF   57779622.0       Africa  \n",
      "16216    ZM                  ZMB   17351822.0       Africa  \n",
      "16270    ZW                  ZWE   14439018.0       Africa  \n",
      "425      AI                  NaN          NaN      America  \n",
      "\n",
      "[205 rows x 11 columns]\n"
     ]
    },
    {
     "name": "stderr",
     "output_type": "stream",
     "text": [
      "C:\\OSGEO4~1\\apps\\Python37\\lib\\site-packages\\ipykernel_launcher.py:3: SettingWithCopyWarning: \n",
      "A value is trying to be set on a copy of a slice from a DataFrame\n",
      "\n",
      "See the caveats in the documentation: https://pandas.pydata.org/pandas-docs/stable/user_guide/indexing.html#returning-a-view-versus-a-copy\n",
      "  This is separate from the ipykernel package so we can avoid doing imports until\n"
     ]
    }
   ],
   "source": [
    "novo_df = df.drop_duplicates(subset='countryterritoryCode', keep='first')\n",
    "\n",
    "novo_df.sort_values('countryterritoryCode' , inplace=True)\n",
    "\n",
    "print(novo_df)"
   ]
  },
  {
   "cell_type": "code",
   "execution_count": 5,
   "metadata": {},
   "outputs": [
    {
     "name": "stdout",
     "output_type": "stream",
     "text": [
      "714             Aruba\n",
      "0         Afghanistan\n",
      "374            Angola\n",
      "123           Albania\n",
      "315           Andorra\n",
      "             ...     \n",
      "16184           Yemen\n",
      "13732    South_Africa\n",
      "16216          Zambia\n",
      "16270        Zimbabwe\n",
      "425          Anguilla\n",
      "Name: countriesAndTerritories, Length: 205, dtype: object\n",
      "     index countriesAndTerritories\n",
      "0      714                   Aruba\n",
      "1        0             Afghanistan\n",
      "2      374                  Angola\n",
      "3      123                 Albania\n",
      "4      315                 Andorra\n",
      "..     ...                     ...\n",
      "200  16184                   Yemen\n",
      "201  13732            South_Africa\n",
      "202  16216                  Zambia\n",
      "203  16270                Zimbabwe\n",
      "204    425                Anguilla\n",
      "\n",
      "[205 rows x 2 columns]\n"
     ]
    }
   ],
   "source": [
    "df_4 = novo_df['countriesAndTerritories']\n",
    "\n",
    "print(df_4)\n",
    "\n",
    "df_4 = df_4.drop_duplicates()\n",
    "df_4 = df_4.reset_index()\n",
    "\n",
    "print(df_4)"
   ]
  },
  {
   "cell_type": "code",
   "execution_count": 6,
   "metadata": {},
   "outputs": [
    {
     "name": "stdout",
     "output_type": "stream",
     "text": [
      "    countryterritoryCode  cases\n",
      "0                    ABW    101\n",
      "1                    AFG   4402\n",
      "2                    AGO     45\n",
      "3                    ALB    868\n",
      "4                    AND    755\n",
      "..                   ...    ...\n",
      "199                  XKX    870\n",
      "200                  YEM     51\n",
      "201                  ZAF  10015\n",
      "202                  ZMB    267\n",
      "203                  ZWE     36\n",
      "\n",
      "[204 rows x 2 columns]\n",
      "    countryterritoryCode  deaths\n",
      "0                    ABW       3\n",
      "1                    AFG     120\n",
      "2                    AGO       2\n",
      "3                    ALB      31\n",
      "4                    AND      48\n",
      "..                   ...     ...\n",
      "199                  XKX      28\n",
      "200                  YEM       8\n",
      "201                  ZAF     194\n",
      "202                  ZMB       7\n",
      "203                  ZWE       4\n",
      "\n",
      "[204 rows x 2 columns]\n"
     ]
    }
   ],
   "source": [
    "df_2 = df.groupby(['countryterritoryCode'])['cases'].sum()\n",
    "df_2 = df_2.reset_index()\n",
    "\n",
    "print(df_2)\n",
    "\n",
    "df_3 = df.groupby(['countryterritoryCode'])['deaths'].sum()\n",
    "df_3 = df_3.reset_index()\n",
    "\n",
    "print(df_3)"
   ]
  },
  {
   "cell_type": "code",
   "execution_count": 7,
   "metadata": {},
   "outputs": [
    {
     "name": "stdout",
     "output_type": "stream",
     "text": [
      "    countryterritoryCode  cases  deaths       country\n",
      "0                    ABW    101       3         Aruba\n",
      "1                    AFG   4402     120   Afghanistan\n",
      "2                    AGO     45       2        Angola\n",
      "3                    ALB    868      31       Albania\n",
      "4                    AND    755      48       Andorra\n",
      "..                   ...    ...     ...           ...\n",
      "199                  XKX    870      28        Kosovo\n",
      "200                  YEM     51       8         Yemen\n",
      "201                  ZAF  10015     194  South_Africa\n",
      "202                  ZMB    267       7        Zambia\n",
      "203                  ZWE     36       4      Zimbabwe\n",
      "\n",
      "[204 rows x 4 columns]\n"
     ]
    }
   ],
   "source": [
    "df_2['deaths'] = df_3['deaths']\n",
    "\n",
    "df_2['country'] = df_4['countriesAndTerritories']\n",
    "\n",
    "print(df_2)"
   ]
  },
  {
   "cell_type": "code",
   "execution_count": 8,
   "metadata": {},
   "outputs": [
    {
     "name": "stdout",
     "output_type": "stream",
     "text": [
      "    countryterritoryCode  cases  deaths       country\n",
      "0                    ABW    101       3         Aruba\n",
      "1                    AFG   4402     120   Afghanistan\n",
      "2                    AGO     45       2        Angola\n",
      "3                    ALB    868      31       Albania\n",
      "4                    AND    755      48       Andorra\n",
      "..                   ...    ...     ...           ...\n",
      "199                  XKX    870      28        Kosovo\n",
      "200                  YEM     51       8         Yemen\n",
      "201                  ZAF  10015     194  South_Africa\n",
      "202                  ZMB    267       7        Zambia\n",
      "203                  ZWE     36       4      Zimbabwe\n",
      "\n",
      "[204 rows x 4 columns]\n"
     ]
    }
   ],
   "source": [
    "df_2.to_csv(r'C:\\Windows\\System32\\0 SIG\\MapaData\\World_Total.csv', index=False)\n",
    "\n",
    "print(df_2)"
   ]
  },
  {
   "cell_type": "markdown",
   "metadata": {},
   "source": [
    "Foi criado um csv chamado World_Total.csv com o nome de cada país, o número acumulado de casos de COVID-19 até ao dia 11-05-2020 e o número de fatalidades que provocou neles."
   ]
  },
  {
   "cell_type": "code",
   "execution_count": 9,
   "metadata": {},
   "outputs": [
    {
     "name": "stdout",
     "output_type": "stream",
     "text": [
      "          dateRep  day  month  year  cases  deaths countriesAndTerritories  \\\n",
      "0      11/05/2020   11      5  2020    369       5             Afghanistan   \n",
      "123    11/05/2020   11      5  2020     12       0                 Albania   \n",
      "187    11/05/2020   11      5  2020    165       8                 Algeria   \n",
      "315    11/05/2020   11      5  2020      1       0                 Andorra   \n",
      "374    11/05/2020   11      5  2020      2       0                  Angola   \n",
      "...           ...  ...    ...   ...    ...     ...                     ...   \n",
      "16039  11/05/2020   11      5  2020      0       0                 Vietnam   \n",
      "16168  11/05/2020   11      5  2020      0       0          Western_Sahara   \n",
      "16184  11/05/2020   11      5  2020     17       1                   Yemen   \n",
      "16216  11/05/2020   11      5  2020     15       0                  Zambia   \n",
      "16270  11/05/2020   11      5  2020      0       0                Zimbabwe   \n",
      "\n",
      "      geoId countryterritoryCode  popData2018 continentExp  \n",
      "0        AF                  AFG   37172386.0         Asia  \n",
      "123      AL                  ALB    2866376.0       Europe  \n",
      "187      DZ                  DZA   42228429.0       Africa  \n",
      "315      AD                  AND      77006.0       Europe  \n",
      "374      AO                  AGO   30809762.0       Africa  \n",
      "...     ...                  ...          ...          ...  \n",
      "16039    VN                  VNM   95540395.0         Asia  \n",
      "16168    EH                  NaN          NaN       Africa  \n",
      "16184    YE                  YEM   28498687.0         Asia  \n",
      "16216    ZM                  ZMB   17351822.0       Africa  \n",
      "16270    ZW                  ZWE   14439018.0       Africa  \n",
      "\n",
      "[207 rows x 11 columns]\n"
     ]
    }
   ],
   "source": [
    "required_df =df.loc[df['dateRep'] == '11/05/2020']\n",
    "print(required_df)"
   ]
  },
  {
   "cell_type": "code",
   "execution_count": 10,
   "metadata": {},
   "outputs": [
    {
     "name": "stdout",
     "output_type": "stream",
     "text": [
      "          dateRep  day  month  year  cases  deaths countriesAndTerritories  \\\n",
      "0      11/05/2020   11      5  2020    369       5             Afghanistan   \n",
      "123    11/05/2020   11      5  2020     12       0                 Albania   \n",
      "187    11/05/2020   11      5  2020    165       8                 Algeria   \n",
      "315    11/05/2020   11      5  2020      1       0                 Andorra   \n",
      "374    11/05/2020   11      5  2020      2       0                  Angola   \n",
      "...           ...  ...    ...   ...    ...     ...                     ...   \n",
      "16039  11/05/2020   11      5  2020      0       0                 Vietnam   \n",
      "16168  11/05/2020   11      5  2020      0       0          Western_Sahara   \n",
      "16184  11/05/2020   11      5  2020     17       1                   Yemen   \n",
      "16216  11/05/2020   11      5  2020     15       0                  Zambia   \n",
      "16270  11/05/2020   11      5  2020      0       0                Zimbabwe   \n",
      "\n",
      "      geoId countryterritoryCode  popData2018 continentExp  \n",
      "0        AF                  AFG   37172386.0         Asia  \n",
      "123      AL                  ALB    2866376.0       Europe  \n",
      "187      DZ                  DZA   42228429.0       Africa  \n",
      "315      AD                  AND      77006.0       Europe  \n",
      "374      AO                  AGO   30809762.0       Africa  \n",
      "...     ...                  ...          ...          ...  \n",
      "16039    VN                  VNM   95540395.0         Asia  \n",
      "16168    EH                  NaN          NaN       Africa  \n",
      "16184    YE                  YEM   28498687.0         Asia  \n",
      "16216    ZM                  ZMB   17351822.0       Africa  \n",
      "16270    ZW                  ZWE   14439018.0       Africa  \n",
      "\n",
      "[207 rows x 11 columns]\n"
     ]
    }
   ],
   "source": [
    "required_df =df.loc[df['dateRep'] == '11/05/2020']\n",
    "print(required_df)"
   ]
  },
  {
   "cell_type": "code",
   "execution_count": 11,
   "metadata": {},
   "outputs": [
    {
     "name": "stdout",
     "output_type": "stream",
     "text": [
      "          dateRep  day  month  year  cases  deaths countriesAndTerritories  \\\n",
      "0      11/05/2020   11      5  2020    369       5             Afghanistan   \n",
      "123    11/05/2020   11      5  2020     12       0                 Albania   \n",
      "187    11/05/2020   11      5  2020    165       8                 Algeria   \n",
      "315    11/05/2020   11      5  2020      1       0                 Andorra   \n",
      "374    11/05/2020   11      5  2020      2       0                  Angola   \n",
      "...           ...  ...    ...   ...    ...     ...                     ...   \n",
      "16039  11/05/2020   11      5  2020      0       0                 Vietnam   \n",
      "16168  11/05/2020   11      5  2020      0       0          Western_Sahara   \n",
      "16184  11/05/2020   11      5  2020     17       1                   Yemen   \n",
      "16216  11/05/2020   11      5  2020     15       0                  Zambia   \n",
      "16270  11/05/2020   11      5  2020      0       0                Zimbabwe   \n",
      "\n",
      "      geoId countryterritoryCode  popData2018 continentExp  \n",
      "0        AF                  AFG   37172386.0         Asia  \n",
      "123      AL                  ALB    2866376.0       Europe  \n",
      "187      DZ                  DZA   42228429.0       Africa  \n",
      "315      AD                  AND      77006.0       Europe  \n",
      "374      AO                  AGO   30809762.0       Africa  \n",
      "...     ...                  ...          ...          ...  \n",
      "16039    VN                  VNM   95540395.0         Asia  \n",
      "16168    EH                  NaN          NaN       Africa  \n",
      "16184    YE                  YEM   28498687.0         Asia  \n",
      "16216    ZM                  ZMB   17351822.0       Africa  \n",
      "16270    ZW                  ZWE   14439018.0       Africa  \n",
      "\n",
      "[207 rows x 11 columns]\n"
     ]
    }
   ],
   "source": [
    "required_df.to_csv(r'C:\\Windows\\System32\\0 SIG\\MapaData\\World.csv', index=False)\n",
    "\n",
    "print(required_df)"
   ]
  },
  {
   "cell_type": "markdown",
   "metadata": {},
   "source": [
    "Foi criado um csv chamado World.csv com os dados relativos ao dia 11-05-2020 em cada país do dataset incial."
   ]
  }
 ],
 "metadata": {
  "kernelspec": {
   "display_name": "Python 3",
   "language": "python",
   "name": "python3"
  },
  "language_info": {
   "codemirror_mode": {
    "name": "ipython",
    "version": 3
   },
   "file_extension": ".py",
   "mimetype": "text/x-python",
   "name": "python",
   "nbconvert_exporter": "python",
   "pygments_lexer": "ipython3",
   "version": "3.7.0"
  }
 },
 "nbformat": 4,
 "nbformat_minor": 2
}
